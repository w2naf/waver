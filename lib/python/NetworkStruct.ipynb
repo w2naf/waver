{
 "metadata": {
  "name": "NetworkStruct"
 },
 "nbformat": 3,
 "nbformat_minor": 0,
 "worksheets": [
  {
   "cells": [
    {
     "cell_type": "markdown",
     "metadata": {},
     "source": [
      "## network(), radar() and site() objects    \n",
      "\n",
      "This notebook introduces the high-level python interface with the radar.dat and hdw.dat content.    \n",
      "For more in-depth access (i.e., your own hdw.dat), look at the radInfoIO module: \n",
      "\n",
      "    radInfoIO?"
     ]
    },
    {
     "cell_type": "code",
     "collapsed": false,
     "input": [
      "# This part can be skipped if you are using davitpy-notebook\n",
      "import sys\n",
      "sys.path.append('/davitpy')\n",
      "from pydarn.radar import *"
     ],
     "language": "python",
     "metadata": {},
     "outputs": [
      {
       "output_type": "stream",
       "stream": "stdout",
       "text": [
        "Updated radar information in /davitpy/pydarn/radar/radars.hdf5\n",
        "No module named plotUtils\n"
       ]
      }
     ],
     "prompt_number": 1
    },
    {
     "cell_type": "code",
     "collapsed": false,
     "input": [
      "# But everything after this point needs to be executed (or just look at the pre-generated output)\n",
      "radars = network()\n",
      "print radars"
     ],
     "language": "python",
     "metadata": {},
     "outputs": [
      {
       "output_type": "stream",
       "stream": "stdout",
       "text": [
        "Network information object: \t\t\t\t\n",
        "\tTotal radars: 50\n",
        "\t\t(North) - [0][tst] Test Radar (planned)\n",
        "\t\t(North) - [1][gbr] Goose Bay (active)\n",
        "\t\t(North) - [2][sch] Schefferville (offline)\n",
        "\t\t(North) - [3][kap] Kapuskasing (active)\n",
        "\t\t(South) - [4][hal] Halley (active)\n",
        "\t\t(North) - [5][sas] Saskatoon (active)\n",
        "\t\t(North) - [6][pgr] Prince George (active)\n",
        "\t\t(North) - [7][kod] Kodiak (active)\n",
        "\t\t(North) - [8][sto] Stokkseyri (active)\n",
        "\t\t(North) - [9][pyk] Pykkvibaer (active)\n",
        "\t\t(North) - [10][han] Hankasalmi (active)\n",
        "\t\t(South) - [11][san] Sanae (active)\n",
        "\t\t(South) - [12][sys] Syowa South (active)\n",
        "\t\t(South) - [13][sye] Syowa East (active)\n",
        "\t\t(South) - [14][tig] TIGER (active)\n",
        "\t\t(South) - [15][ker] Kerguelen (active)\n",
        "\t\t(North) - [16][ksr] King Salmon (active)\n",
        "\t\t(South) - [18][unw] Unwin (active)\n",
        "\t\t(South) - [19][zho] Zhongshan Station (active)\n",
        "\t\t(South) - [20][mcm] McMurdo (active)\n",
        "\t\t(South) - [21][fir] Falkland Islands (active)\n",
        "\t\t(South) - [22][sps] South Pole Station (active)\n",
        "\t\t(North) - [32][wal] Wallops Island (active)\n",
        "\t\t(North) - [33][bks] Blackstone (active)\n",
        "\t\t(North) - [40][hok] Hokkaido (active)\n",
        "\t\t(North) - [64][inv] Inuvik (active)\n",
        "\t\t(North) - [65][rkn] Rankin Inlet (active)\n",
        "\t\t(North) - [66][cly] Clyde River (active)\n",
        "\t\t(South) - [96][dce] Dome C East (active)\n",
        "\t\t(North) - [128][svb] Svalbard (planned)\n",
        "\t\t(North) - [204][fhw] Fort Hays West (active)\n",
        "\t\t(North) - [205][fhe] Fort Hays East (active)\n",
        "\t\t(North) - [206][cvw] Christmas Valley West (active)\n",
        "\t\t(North) - [207][cve] Christmas Valley East (active)\n",
        "\t\t(North) - [208][adw] Adak West (active)\n",
        "\t\t(North) - [209][ade] Adak East (active)\n",
        "\t\t(North) - [210][azw] Azores West (planned)\n",
        "\t\t(North) - [211][aze] Azores East (planned)\n",
        "\t\t(North) - [501][sve] Svedlovsk East (planned)\n",
        "\t\t(North) - [502][svw] Svedlovsk West (planned)\n",
        "\t\t(North) - [503][hkw] Hokkaido West (planned)\n",
        "\t\t(North) - [504][ire] Irkutsk East (planned)\n",
        "\t\t(North) - [505][irw] Irkutsk West (planned)\n",
        "\t\t(North) - [506][kae] Kashi East (planned)\n",
        "\t\t(North) - [507][kaw] Kashi West (planned)\n",
        "\t\t(North) - [508][eje] Ejina East (planned)\n",
        "\t\t(North) - [509][ejw] Ejina West (planned)\n",
        "\t\t(North) - [510][she] Shenyang East (planned)\n",
        "\t\t(North) - [511][shw] Shenyang West (planned)\n",
        "\t\t(North) - [512][ekb] EKB Radar (planned)\n"
       ]
      }
     ],
     "prompt_number": 2
    },
    {
     "cell_type": "code",
     "collapsed": false,
     "input": [
      "# How to get the total number of radars\n",
      "print len(radars)\n",
      "print radars.nradar"
     ],
     "language": "python",
     "metadata": {},
     "outputs": [
      {
       "output_type": "stream",
       "stream": "stdout",
       "text": [
        "50\n",
        "50\n"
       ]
      }
     ],
     "prompt_number": 3
    },
    {
     "cell_type": "code",
     "collapsed": false,
     "input": [
      "# How to get a specific radar from the mountain of recorded radars\n",
      "print radars.getRadarByCode(\"bks\")\n",
      "# is equivalent to...\n",
      "#print radars.getRadarById(33)\n",
      "#print, radars.getRadarByName(\"Blackstone\")"
     ],
     "language": "python",
     "metadata": {},
     "outputs": [
      {
       "output_type": "stream",
       "stream": "stdout",
       "text": [
        "id: 33 \t\t\t\t\t\n",
        "status: 1 \t\t\t\t\t\n",
        "cnum: 2 \t\t\t\t\t\n",
        "code: [['bks', 'i']] \t\t\t\t\t\n",
        "name: Blackstone \t\t\t\t\t\n",
        "operator: JHU/APL \t\t\t\t\t\n",
        "hdwfname: hdw.dat.bks \t\t\t\t\t\n",
        "stTime: 2008-02-02 \t\t\t\t\t\n",
        "edTime: 2500-01-01 \t\t\t\t\t\n",
        "snum: 10 \t\t\t\t\t\n",
        "sites: 10 elements\n"
       ]
      }
     ],
     "prompt_number": 4
    },
    {
     "cell_type": "code",
     "collapsed": false,
     "input": [
      "# How to get a specific radar site information at a given date\n",
      "from datetime import datetime\n",
      "print radars.getRadarByName('Goose Bay').getSiteByDate(datetime(2011,1,4))"
     ],
     "language": "python",
     "metadata": {},
     "outputs": [
      {
       "output_type": "stream",
       "stream": "stdout",
       "text": [
        "tval: 3000-01-01 00:00:00 \t\t\t\t\t\n",
        "geolat: 53.32 \t\t\t\t\t\n",
        "geolon: -60.46 \t\t\t\t\t\n",
        "alt:  50.00 \t\t\t\t\t\n",
        "boresite:  5.00 \t\t\t\t\t\n",
        "bmsep:  3.24 \t\t\t\t\t\n",
        "vdir: 1 \t\t\t\t\t\n",
        "atten:  0.00 \t\t\t\t\t\n",
        "tdiff: 0.4780 \t\t\t\t\t\n",
        "phidiff: 1.0 \t\t\t\t\t\n",
        "interfer: [ 1.50, 100.00,  0.00] \t\t\t\t\t\n",
        "recrise: 0.000 \t\t\t\t\t\n",
        "maxatten: 0.0 \t\t\t\t\t\n",
        "maxgate: 100 \t\t\t\t\t\n",
        "maxbeam: 16\n"
       ]
      }
     ],
     "prompt_number": 5
    },
    {
     "cell_type": "code",
     "collapsed": false,
     "input": [
      "# How to get only one radar without getting all the other radars\n",
      "rad = radar(code='bks')\n",
      "print rad"
     ],
     "language": "python",
     "metadata": {},
     "outputs": [
      {
       "output_type": "stream",
       "stream": "stdout",
       "text": [
        "id: 33 \t\t\t\t\t\n",
        "status: 1 \t\t\t\t\t\n",
        "cnum: 2 \t\t\t\t\t\n",
        "code: [['bks', 'i']] \t\t\t\t\t\n",
        "name: Blackstone \t\t\t\t\t\n",
        "operator: JHU/APL \t\t\t\t\t\n",
        "hdwfname: hdw.dat.bks \t\t\t\t\t\n",
        "stTime: 2008-02-02 \t\t\t\t\t\n",
        "edTime: 2500-01-01 \t\t\t\t\t\n",
        "snum: 10 \t\t\t\t\t\n",
        "sites: 10 elements\n"
       ]
      }
     ],
     "prompt_number": 8
    },
    {
     "cell_type": "code",
     "collapsed": false,
     "input": [
      "# How to get a site without going trhough the whole network or radar classes\n",
      "print site(code='bks', dt=datetime(2010,11,17))"
     ],
     "language": "python",
     "metadata": {},
     "outputs": [
      {
       "output_type": "stream",
       "stream": "stdout",
       "text": [
        "tval: 2011-09-12 00:00:00 \t\t\t\t\t\n",
        "geolat: 37.10 \t\t\t\t\t\n",
        "geolon: -77.95 \t\t\t\t\t\n",
        "alt:  50.00 \t\t\t\t\t\n",
        "boresite: -32.00 \t\t\t\t\t\n",
        "bmsep:  3.86 \t\t\t\t\t\n",
        "vdir: 1 \t\t\t\t\t\n",
        "atten:  0.00 \t\t\t\t\t\n",
        "tdiff: -0.3240 \t\t\t\t\t\n",
        "phidiff: 1.0 \t\t\t\t\t\n",
        "interfer: [ 0.00, -58.90, -2.70] \t\t\t\t\t\n",
        "recrise: 0.000 \t\t\t\t\t\n",
        "maxatten: 0.0 \t\t\t\t\t\n",
        "maxgate: 110 \t\t\t\t\t\n",
        "maxbeam: 16\n"
       ]
      }
     ],
     "prompt_number": 9
    },
    {
     "cell_type": "code",
     "collapsed": false,
     "input": [],
     "language": "python",
     "metadata": {},
     "outputs": [],
     "prompt_number": 7
    }
   ],
   "metadata": {}
  }
 ]
}